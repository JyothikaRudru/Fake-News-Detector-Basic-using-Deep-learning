{
 "cells": [
  {
   "cell_type": "markdown",
   "id": "00da2296-38cd-4aec-872e-6aec423fe141",
   "metadata": {},
   "source": [
    "## Fake News Detector(Basic) using Deep Learning Project\n"
   ]
  },
  {
   "cell_type": "markdown",
   "id": "133bf42b-b85c-4716-a67e-9719f04419a1",
   "metadata": {},
   "source": [
    "### In this project, I use Deep Learning technique i.e., Long Short Term Memory(LSTM)"
   ]
  },
  {
   "cell_type": "markdown",
   "id": "22b307ec-3358-4637-a705-243756dfdb75",
   "metadata": {},
   "source": [
    "#### Problem Statement : In the last few years, due to the widespread usage of online social networks, fake news spreading  at an alarming rate for various commercial and political purposes which is a matter of concern as it has numerous psychological effects on offline society."
   ]
  },
  {
   "cell_type": "markdown",
   "id": "f48dcd9f-bd82-43b2-97e5-1cc5d4ff0157",
   "metadata": {
    "jp-MarkdownHeadingCollapsed": true
   },
   "source": [
    "#### Dataset Used: ISOT Fake News Dataset --> 2 csv files --> real, fake -->21417 true news, 23481 fake news --> article title, body, subject, date"
   ]
  },
  {
   "cell_type": "markdown",
   "id": "ac4f98da-1107-4e10-9b23-44eaae64bb6c",
   "metadata": {},
   "source": [
    "#### import necessary libraries"
   ]
  },
  {
   "cell_type": "code",
   "execution_count": 1,
   "id": "6528e3c8-26e8-4eb8-9db9-4aa280f12023",
   "metadata": {},
   "outputs": [],
   "source": [
    "import numpy as np\n",
    "import pandas as pd\n",
    "from collections import defaultdict\n",
    "import re"
   ]
  },
  {
   "cell_type": "markdown",
   "id": "333d579d-54fe-43f3-abf4-3d737995ba25",
   "metadata": {},
   "source": [
    "#### loading datasets"
   ]
  },
  {
   "cell_type": "code",
   "execution_count": 2,
   "id": "14952645-3c55-4bab-b336-a56ac30d056d",
   "metadata": {},
   "outputs": [
    {
     "name": "stdout",
     "output_type": "stream",
     "text": [
      "                                               title  \\\n",
      "0   Donald Trump Sends Out Embarrassing New Year’...   \n",
      "1   Drunk Bragging Trump Staffer Started Russian ...   \n",
      "2   Sheriff David Clarke Becomes An Internet Joke...   \n",
      "3   Trump Is So Obsessed He Even Has Obama’s Name...   \n",
      "4   Pope Francis Just Called Out Donald Trump Dur...   \n",
      "\n",
      "                                                text subject  \\\n",
      "0  Donald Trump just couldn t wish all Americans ...    News   \n",
      "1  House Intelligence Committee Chairman Devin Nu...    News   \n",
      "2  On Friday, it was revealed that former Milwauk...    News   \n",
      "3  On Christmas day, Donald Trump announced that ...    News   \n",
      "4  Pope Francis used his annual Christmas Day mes...    News   \n",
      "\n",
      "                date  \n",
      "0  December 31, 2017  \n",
      "1  December 31, 2017  \n",
      "2  December 30, 2017  \n",
      "3  December 29, 2017  \n",
      "4  December 25, 2017  \n"
     ]
    }
   ],
   "source": [
    "df_fake=pd.read_csv(r'C:\\Users\\Dell\\Desktop\\News _dataset\\Fake.csv')\n",
    "print(df_fake.head(5))"
   ]
  },
  {
   "cell_type": "code",
   "execution_count": 3,
   "id": "521935d9-1859-453d-a042-4d53b00dc040",
   "metadata": {},
   "outputs": [
    {
     "name": "stdout",
     "output_type": "stream",
     "text": [
      "                                               title  \\\n",
      "0  As U.S. budget fight looms, Republicans flip t...   \n",
      "1  U.S. military to accept transgender recruits o...   \n",
      "2  Senior U.S. Republican senator: 'Let Mr. Muell...   \n",
      "3  FBI Russia probe helped by Australian diplomat...   \n",
      "4  Trump wants Postal Service to charge 'much mor...   \n",
      "\n",
      "                                                text       subject  \\\n",
      "0  WASHINGTON (Reuters) - The head of a conservat...  politicsNews   \n",
      "1  WASHINGTON (Reuters) - Transgender people will...  politicsNews   \n",
      "2  WASHINGTON (Reuters) - The special counsel inv...  politicsNews   \n",
      "3  WASHINGTON (Reuters) - Trump campaign adviser ...  politicsNews   \n",
      "4  SEATTLE/WASHINGTON (Reuters) - President Donal...  politicsNews   \n",
      "\n",
      "                 date  \n",
      "0  December 31, 2017   \n",
      "1  December 29, 2017   \n",
      "2  December 31, 2017   \n",
      "3  December 30, 2017   \n",
      "4  December 29, 2017   \n"
     ]
    }
   ],
   "source": [
    "df_true=pd.read_csv(r'C:\\Users\\Dell\\Desktop\\News _dataset\\True.csv')\n",
    "print(df_true.head(5))"
   ]
  },
  {
   "cell_type": "markdown",
   "id": "05f5f00b-61e0-415e-a6e9-c3ae8cbe9d93",
   "metadata": {},
   "source": [
    "#### As we only need title and text, so we will drop extra fetures i.e., subject and date."
   ]
  },
  {
   "cell_type": "markdown",
   "id": "ecd60662-c5fb-4ee3-981f-fd121afe8648",
   "metadata": {},
   "source": [
    "#### Data processing"
   ]
  },
  {
   "cell_type": "code",
   "execution_count": 4,
   "id": "d8dd1dc1-2080-4a97-8cde-6131a0a21247",
   "metadata": {},
   "outputs": [
    {
     "data": {
      "text/html": [
       "<div>\n",
       "<style scoped>\n",
       "    .dataframe tbody tr th:only-of-type {\n",
       "        vertical-align: middle;\n",
       "    }\n",
       "\n",
       "    .dataframe tbody tr th {\n",
       "        vertical-align: top;\n",
       "    }\n",
       "\n",
       "    .dataframe thead th {\n",
       "        text-align: right;\n",
       "    }\n",
       "</style>\n",
       "<table border=\"1\" class=\"dataframe\">\n",
       "  <thead>\n",
       "    <tr style=\"text-align: right;\">\n",
       "      <th></th>\n",
       "      <th>title</th>\n",
       "      <th>text</th>\n",
       "      <th>label</th>\n",
       "    </tr>\n",
       "  </thead>\n",
       "  <tbody>\n",
       "    <tr>\n",
       "      <th>0</th>\n",
       "      <td>Donald Trump Sends Out Embarrassing New Year’...</td>\n",
       "      <td>Donald Trump just couldn t wish all Americans ...</td>\n",
       "      <td>FAKE</td>\n",
       "    </tr>\n",
       "    <tr>\n",
       "      <th>1</th>\n",
       "      <td>Drunk Bragging Trump Staffer Started Russian ...</td>\n",
       "      <td>House Intelligence Committee Chairman Devin Nu...</td>\n",
       "      <td>FAKE</td>\n",
       "    </tr>\n",
       "    <tr>\n",
       "      <th>2</th>\n",
       "      <td>Sheriff David Clarke Becomes An Internet Joke...</td>\n",
       "      <td>On Friday, it was revealed that former Milwauk...</td>\n",
       "      <td>FAKE</td>\n",
       "    </tr>\n",
       "    <tr>\n",
       "      <th>3</th>\n",
       "      <td>Trump Is So Obsessed He Even Has Obama’s Name...</td>\n",
       "      <td>On Christmas day, Donald Trump announced that ...</td>\n",
       "      <td>FAKE</td>\n",
       "    </tr>\n",
       "    <tr>\n",
       "      <th>4</th>\n",
       "      <td>Pope Francis Just Called Out Donald Trump Dur...</td>\n",
       "      <td>Pope Francis used his annual Christmas Day mes...</td>\n",
       "      <td>FAKE</td>\n",
       "    </tr>\n",
       "  </tbody>\n",
       "</table>\n",
       "</div>"
      ],
      "text/plain": [
       "                                               title  \\\n",
       "0   Donald Trump Sends Out Embarrassing New Year’...   \n",
       "1   Drunk Bragging Trump Staffer Started Russian ...   \n",
       "2   Sheriff David Clarke Becomes An Internet Joke...   \n",
       "3   Trump Is So Obsessed He Even Has Obama’s Name...   \n",
       "4   Pope Francis Just Called Out Donald Trump Dur...   \n",
       "\n",
       "                                                text label  \n",
       "0  Donald Trump just couldn t wish all Americans ...  FAKE  \n",
       "1  House Intelligence Committee Chairman Devin Nu...  FAKE  \n",
       "2  On Friday, it was revealed that former Milwauk...  FAKE  \n",
       "3  On Christmas day, Donald Trump announced that ...  FAKE  \n",
       "4  Pope Francis used his annual Christmas Day mes...  FAKE  "
      ]
     },
     "execution_count": 4,
     "metadata": {},
     "output_type": "execute_result"
    }
   ],
   "source": [
    "df_fake=df_fake.drop(['subject','date'], axis=1)\n",
    "df_fake['label']='FAKE'\n",
    "df_fake.head()"
   ]
  },
  {
   "cell_type": "code",
   "execution_count": 5,
   "id": "62a29452-7c35-463b-bf1f-7ba5ffab0175",
   "metadata": {},
   "outputs": [
    {
     "data": {
      "text/html": [
       "<div>\n",
       "<style scoped>\n",
       "    .dataframe tbody tr th:only-of-type {\n",
       "        vertical-align: middle;\n",
       "    }\n",
       "\n",
       "    .dataframe tbody tr th {\n",
       "        vertical-align: top;\n",
       "    }\n",
       "\n",
       "    .dataframe thead th {\n",
       "        text-align: right;\n",
       "    }\n",
       "</style>\n",
       "<table border=\"1\" class=\"dataframe\">\n",
       "  <thead>\n",
       "    <tr style=\"text-align: right;\">\n",
       "      <th></th>\n",
       "      <th>title</th>\n",
       "      <th>text</th>\n",
       "      <th>label</th>\n",
       "    </tr>\n",
       "  </thead>\n",
       "  <tbody>\n",
       "    <tr>\n",
       "      <th>0</th>\n",
       "      <td>As U.S. budget fight looms, Republicans flip t...</td>\n",
       "      <td>WASHINGTON (Reuters) - The head of a conservat...</td>\n",
       "      <td>TRUE</td>\n",
       "    </tr>\n",
       "    <tr>\n",
       "      <th>1</th>\n",
       "      <td>U.S. military to accept transgender recruits o...</td>\n",
       "      <td>WASHINGTON (Reuters) - Transgender people will...</td>\n",
       "      <td>TRUE</td>\n",
       "    </tr>\n",
       "    <tr>\n",
       "      <th>2</th>\n",
       "      <td>Senior U.S. Republican senator: 'Let Mr. Muell...</td>\n",
       "      <td>WASHINGTON (Reuters) - The special counsel inv...</td>\n",
       "      <td>TRUE</td>\n",
       "    </tr>\n",
       "    <tr>\n",
       "      <th>3</th>\n",
       "      <td>FBI Russia probe helped by Australian diplomat...</td>\n",
       "      <td>WASHINGTON (Reuters) - Trump campaign adviser ...</td>\n",
       "      <td>TRUE</td>\n",
       "    </tr>\n",
       "    <tr>\n",
       "      <th>4</th>\n",
       "      <td>Trump wants Postal Service to charge 'much mor...</td>\n",
       "      <td>SEATTLE/WASHINGTON (Reuters) - President Donal...</td>\n",
       "      <td>TRUE</td>\n",
       "    </tr>\n",
       "  </tbody>\n",
       "</table>\n",
       "</div>"
      ],
      "text/plain": [
       "                                               title  \\\n",
       "0  As U.S. budget fight looms, Republicans flip t...   \n",
       "1  U.S. military to accept transgender recruits o...   \n",
       "2  Senior U.S. Republican senator: 'Let Mr. Muell...   \n",
       "3  FBI Russia probe helped by Australian diplomat...   \n",
       "4  Trump wants Postal Service to charge 'much mor...   \n",
       "\n",
       "                                                text label  \n",
       "0  WASHINGTON (Reuters) - The head of a conservat...  TRUE  \n",
       "1  WASHINGTON (Reuters) - Transgender people will...  TRUE  \n",
       "2  WASHINGTON (Reuters) - The special counsel inv...  TRUE  \n",
       "3  WASHINGTON (Reuters) - Trump campaign adviser ...  TRUE  \n",
       "4  SEATTLE/WASHINGTON (Reuters) - President Donal...  TRUE  "
      ]
     },
     "execution_count": 5,
     "metadata": {},
     "output_type": "execute_result"
    }
   ],
   "source": [
    "df_true=df_true.drop(['subject','date'], axis=1)\n",
    "df_true['label']='TRUE'\n",
    "df_true.head()"
   ]
  },
  {
   "cell_type": "markdown",
   "id": "15f5d46b-d412-45e1-aa23-4e56ab220adb",
   "metadata": {},
   "source": [
    "#### Next, we have to merged the both datasets "
   ]
  },
  {
   "cell_type": "code",
   "execution_count": 6,
   "id": "0d1d5dd0-4a29-47d7-9a9e-21e77858af93",
   "metadata": {},
   "outputs": [
    {
     "data": {
      "text/html": [
       "<div>\n",
       "<style scoped>\n",
       "    .dataframe tbody tr th:only-of-type {\n",
       "        vertical-align: middle;\n",
       "    }\n",
       "\n",
       "    .dataframe tbody tr th {\n",
       "        vertical-align: top;\n",
       "    }\n",
       "\n",
       "    .dataframe thead th {\n",
       "        text-align: right;\n",
       "    }\n",
       "</style>\n",
       "<table border=\"1\" class=\"dataframe\">\n",
       "  <thead>\n",
       "    <tr style=\"text-align: right;\">\n",
       "      <th></th>\n",
       "      <th>title</th>\n",
       "      <th>text</th>\n",
       "      <th>label</th>\n",
       "    </tr>\n",
       "  </thead>\n",
       "  <tbody>\n",
       "    <tr>\n",
       "      <th>0</th>\n",
       "      <td>As U.S. budget fight looms, Republicans flip t...</td>\n",
       "      <td>WASHINGTON (Reuters) - The head of a conservat...</td>\n",
       "      <td>TRUE</td>\n",
       "    </tr>\n",
       "    <tr>\n",
       "      <th>1</th>\n",
       "      <td>U.S. military to accept transgender recruits o...</td>\n",
       "      <td>WASHINGTON (Reuters) - Transgender people will...</td>\n",
       "      <td>TRUE</td>\n",
       "    </tr>\n",
       "    <tr>\n",
       "      <th>2</th>\n",
       "      <td>Senior U.S. Republican senator: 'Let Mr. Muell...</td>\n",
       "      <td>WASHINGTON (Reuters) - The special counsel inv...</td>\n",
       "      <td>TRUE</td>\n",
       "    </tr>\n",
       "    <tr>\n",
       "      <th>3</th>\n",
       "      <td>FBI Russia probe helped by Australian diplomat...</td>\n",
       "      <td>WASHINGTON (Reuters) - Trump campaign adviser ...</td>\n",
       "      <td>TRUE</td>\n",
       "    </tr>\n",
       "    <tr>\n",
       "      <th>4</th>\n",
       "      <td>Trump wants Postal Service to charge 'much mor...</td>\n",
       "      <td>SEATTLE/WASHINGTON (Reuters) - President Donal...</td>\n",
       "      <td>TRUE</td>\n",
       "    </tr>\n",
       "  </tbody>\n",
       "</table>\n",
       "</div>"
      ],
      "text/plain": [
       "                                               title  \\\n",
       "0  As U.S. budget fight looms, Republicans flip t...   \n",
       "1  U.S. military to accept transgender recruits o...   \n",
       "2  Senior U.S. Republican senator: 'Let Mr. Muell...   \n",
       "3  FBI Russia probe helped by Australian diplomat...   \n",
       "4  Trump wants Postal Service to charge 'much mor...   \n",
       "\n",
       "                                                text label  \n",
       "0  WASHINGTON (Reuters) - The head of a conservat...  TRUE  \n",
       "1  WASHINGTON (Reuters) - Transgender people will...  TRUE  \n",
       "2  WASHINGTON (Reuters) - The special counsel inv...  TRUE  \n",
       "3  WASHINGTON (Reuters) - Trump campaign adviser ...  TRUE  \n",
       "4  SEATTLE/WASHINGTON (Reuters) - President Donal...  TRUE  "
      ]
     },
     "execution_count": 6,
     "metadata": {},
     "output_type": "execute_result"
    }
   ],
   "source": [
    "#merging the datasets\n",
    "df=pd.concat([df_true,df_fake], ignore_index=True)\n",
    "df.head()"
   ]
  },
  {
   "cell_type": "markdown",
   "id": "42ccd190-dc54-4263-9ad3-3db60aad057f",
   "metadata": {},
   "source": [
    "#### As we observe that, there is a defined sequence of true and fake labels. So, we need to shuffle the dataset to introduce a randomness in the dataset."
   ]
  },
  {
   "cell_type": "code",
   "execution_count": 7,
   "id": "04b00b19-d090-46ef-85cc-a52e3b9e83d9",
   "metadata": {},
   "outputs": [
    {
     "data": {
      "text/html": [
       "<div>\n",
       "<style scoped>\n",
       "    .dataframe tbody tr th:only-of-type {\n",
       "        vertical-align: middle;\n",
       "    }\n",
       "\n",
       "    .dataframe tbody tr th {\n",
       "        vertical-align: top;\n",
       "    }\n",
       "\n",
       "    .dataframe thead th {\n",
       "        text-align: right;\n",
       "    }\n",
       "</style>\n",
       "<table border=\"1\" class=\"dataframe\">\n",
       "  <thead>\n",
       "    <tr style=\"text-align: right;\">\n",
       "      <th></th>\n",
       "      <th>title</th>\n",
       "      <th>text</th>\n",
       "      <th>label</th>\n",
       "    </tr>\n",
       "  </thead>\n",
       "  <tbody>\n",
       "    <tr>\n",
       "      <th>30886</th>\n",
       "      <td>WATCH: ARROGANT Sexual Predator and Sometimes ...</td>\n",
       "      <td>The not so funny comedian Louis C.K. appeared ...</td>\n",
       "      <td>FAKE</td>\n",
       "    </tr>\n",
       "    <tr>\n",
       "      <th>15566</th>\n",
       "      <td>Britain's PM May, husband have no direct offsh...</td>\n",
       "      <td>LONDON (Reuters) - Neither the British Prime M...</td>\n",
       "      <td>TRUE</td>\n",
       "    </tr>\n",
       "    <tr>\n",
       "      <th>12179</th>\n",
       "      <td>Mexico's Senate picks new electoral prosecutor...</td>\n",
       "      <td>MEXICO CITY (Reuters) - Mexico s Senate on Fri...</td>\n",
       "      <td>TRUE</td>\n",
       "    </tr>\n",
       "    <tr>\n",
       "      <th>25758</th>\n",
       "      <td>Trump Has Been BRIBING Government Officials F...</td>\n",
       "      <td>While the amount of Trump s ahem charitable gi...</td>\n",
       "      <td>FAKE</td>\n",
       "    </tr>\n",
       "    <tr>\n",
       "      <th>22305</th>\n",
       "      <td>Trump Supporter Pleads Guilty To Tampering Wi...</td>\n",
       "      <td>At the close of the election, upon finding out...</td>\n",
       "      <td>FAKE</td>\n",
       "    </tr>\n",
       "  </tbody>\n",
       "</table>\n",
       "</div>"
      ],
      "text/plain": [
       "                                                   title  \\\n",
       "30886  WATCH: ARROGANT Sexual Predator and Sometimes ...   \n",
       "15566  Britain's PM May, husband have no direct offsh...   \n",
       "12179  Mexico's Senate picks new electoral prosecutor...   \n",
       "25758   Trump Has Been BRIBING Government Officials F...   \n",
       "22305   Trump Supporter Pleads Guilty To Tampering Wi...   \n",
       "\n",
       "                                                    text label  \n",
       "30886  The not so funny comedian Louis C.K. appeared ...  FAKE  \n",
       "15566  LONDON (Reuters) - Neither the British Prime M...  TRUE  \n",
       "12179  MEXICO CITY (Reuters) - Mexico s Senate on Fri...  TRUE  \n",
       "25758  While the amount of Trump s ahem charitable gi...  FAKE  \n",
       "22305  At the close of the election, upon finding out...  FAKE  "
      ]
     },
     "execution_count": 7,
     "metadata": {},
     "output_type": "execute_result"
    }
   ],
   "source": [
    "#shuffling the datset\n",
    "df=df.reindex(np.random.permutation(df.index))\n",
    "df.head()"
   ]
  },
  {
   "cell_type": "markdown",
   "id": "1b56560c-e23c-4fa8-887d-991d451cd38a",
   "metadata": {},
   "source": [
    "#### We have to clean the True News Text as it affects the model building process as it's not an important feature for building a fake news detector (Use regular expressions for clean the text)"
   ]
  },
  {
   "cell_type": "code",
   "execution_count": 8,
   "id": "eed2ec8d-2b8d-406f-9637-a5efbcedd2b4",
   "metadata": {},
   "outputs": [
    {
     "data": {
      "text/html": [
       "<div>\n",
       "<style scoped>\n",
       "    .dataframe tbody tr th:only-of-type {\n",
       "        vertical-align: middle;\n",
       "    }\n",
       "\n",
       "    .dataframe tbody tr th {\n",
       "        vertical-align: top;\n",
       "    }\n",
       "\n",
       "    .dataframe thead th {\n",
       "        text-align: right;\n",
       "    }\n",
       "</style>\n",
       "<table border=\"1\" class=\"dataframe\">\n",
       "  <thead>\n",
       "    <tr style=\"text-align: right;\">\n",
       "      <th></th>\n",
       "      <th>title</th>\n",
       "      <th>text</th>\n",
       "      <th>label</th>\n",
       "      <th>text_processed</th>\n",
       "    </tr>\n",
       "  </thead>\n",
       "  <tbody>\n",
       "    <tr>\n",
       "      <th>15566</th>\n",
       "      <td>Britain's PM May, husband have no direct offsh...</td>\n",
       "      <td>LONDON (Reuters) - Neither the British Prime M...</td>\n",
       "      <td>TRUE</td>\n",
       "      <td>Neither the British Prime Minister Theresa May...</td>\n",
       "    </tr>\n",
       "    <tr>\n",
       "      <th>12179</th>\n",
       "      <td>Mexico's Senate picks new electoral prosecutor...</td>\n",
       "      <td>MEXICO CITY (Reuters) - Mexico s Senate on Fri...</td>\n",
       "      <td>TRUE</td>\n",
       "      <td>Mexico s Senate on Friday named the country s ...</td>\n",
       "    </tr>\n",
       "    <tr>\n",
       "      <th>20656</th>\n",
       "      <td>China's tighter drone rules send new pilots fl...</td>\n",
       "      <td>BEIJING (Reuters) - A buzz fills the sky above...</td>\n",
       "      <td>TRUE</td>\n",
       "      <td>A buzz fills the sky above a flight base in no...</td>\n",
       "    </tr>\n",
       "    <tr>\n",
       "      <th>17405</th>\n",
       "      <td>Final assault starts on Syria's Raqqa as some ...</td>\n",
       "      <td>AIN ISSA, Syria/BEIRUT (Reuters) - U.S.-backed...</td>\n",
       "      <td>TRUE</td>\n",
       "      <td>U.S.-backed militias launched their  final  as...</td>\n",
       "    </tr>\n",
       "    <tr>\n",
       "      <th>1835</th>\n",
       "      <td>New Senate Obamacare repeal bill due Monday: s...</td>\n",
       "      <td>WASHINGTON (Reuters) - A new Republican bill t...</td>\n",
       "      <td>TRUE</td>\n",
       "      <td>A new Republican bill to replace Obamacare wil...</td>\n",
       "    </tr>\n",
       "    <tr>\n",
       "      <th>...</th>\n",
       "      <td>...</td>\n",
       "      <td>...</td>\n",
       "      <td>...</td>\n",
       "      <td>...</td>\n",
       "    </tr>\n",
       "    <tr>\n",
       "      <th>20617</th>\n",
       "      <td>U.N. rights chief says EU deal on Libya migran...</td>\n",
       "      <td>GENEVA (Reuters) - A European and African deal...</td>\n",
       "      <td>TRUE</td>\n",
       "      <td>A European and African deal to stem the flow o...</td>\n",
       "    </tr>\n",
       "    <tr>\n",
       "      <th>15010</th>\n",
       "      <td>At least one person dead, 50 wounded in Iraq a...</td>\n",
       "      <td>ERBIL, Iraq (Reuters) - At least one person di...</td>\n",
       "      <td>TRUE</td>\n",
       "      <td>At least one person died and 50 were wounded a...</td>\n",
       "    </tr>\n",
       "    <tr>\n",
       "      <th>16759</th>\n",
       "      <td>Tanzania president names tax expert as central...</td>\n",
       "      <td>DAR ES SALAAM (Reuters) - Tanzania s new centr...</td>\n",
       "      <td>TRUE</td>\n",
       "      <td>Tanzania s new central bank governor will be t...</td>\n",
       "    </tr>\n",
       "    <tr>\n",
       "      <th>9439</th>\n",
       "      <td>Looming U.S. abortion ruling could be 'dangero...</td>\n",
       "      <td>NEW YORK (Thomson Reuters Foundation) - As a S...</td>\n",
       "      <td>TRUE</td>\n",
       "      <td>NEW YORK (Thomson Reuters Foundation) - As a S...</td>\n",
       "    </tr>\n",
       "    <tr>\n",
       "      <th>21215</th>\n",
       "      <td>North Korea sentences South Korean reporters t...</td>\n",
       "      <td>SEOUL (Reuters) - A North Korean court sentenc...</td>\n",
       "      <td>TRUE</td>\n",
       "      <td>A North Korean court sentenced two South Korea...</td>\n",
       "    </tr>\n",
       "  </tbody>\n",
       "</table>\n",
       "<p>21417 rows × 4 columns</p>\n",
       "</div>"
      ],
      "text/plain": [
       "                                                   title  \\\n",
       "15566  Britain's PM May, husband have no direct offsh...   \n",
       "12179  Mexico's Senate picks new electoral prosecutor...   \n",
       "20656  China's tighter drone rules send new pilots fl...   \n",
       "17405  Final assault starts on Syria's Raqqa as some ...   \n",
       "1835   New Senate Obamacare repeal bill due Monday: s...   \n",
       "...                                                  ...   \n",
       "20617  U.N. rights chief says EU deal on Libya migran...   \n",
       "15010  At least one person dead, 50 wounded in Iraq a...   \n",
       "16759  Tanzania president names tax expert as central...   \n",
       "9439   Looming U.S. abortion ruling could be 'dangero...   \n",
       "21215  North Korea sentences South Korean reporters t...   \n",
       "\n",
       "                                                    text label  \\\n",
       "15566  LONDON (Reuters) - Neither the British Prime M...  TRUE   \n",
       "12179  MEXICO CITY (Reuters) - Mexico s Senate on Fri...  TRUE   \n",
       "20656  BEIJING (Reuters) - A buzz fills the sky above...  TRUE   \n",
       "17405  AIN ISSA, Syria/BEIRUT (Reuters) - U.S.-backed...  TRUE   \n",
       "1835   WASHINGTON (Reuters) - A new Republican bill t...  TRUE   \n",
       "...                                                  ...   ...   \n",
       "20617  GENEVA (Reuters) - A European and African deal...  TRUE   \n",
       "15010  ERBIL, Iraq (Reuters) - At least one person di...  TRUE   \n",
       "16759  DAR ES SALAAM (Reuters) - Tanzania s new centr...  TRUE   \n",
       "9439   NEW YORK (Thomson Reuters Foundation) - As a S...  TRUE   \n",
       "21215  SEOUL (Reuters) - A North Korean court sentenc...  TRUE   \n",
       "\n",
       "                                          text_processed  \n",
       "15566  Neither the British Prime Minister Theresa May...  \n",
       "12179  Mexico s Senate on Friday named the country s ...  \n",
       "20656  A buzz fills the sky above a flight base in no...  \n",
       "17405  U.S.-backed militias launched their  final  as...  \n",
       "1835   A new Republican bill to replace Obamacare wil...  \n",
       "...                                                  ...  \n",
       "20617  A European and African deal to stem the flow o...  \n",
       "15010  At least one person died and 50 were wounded a...  \n",
       "16759  Tanzania s new central bank governor will be t...  \n",
       "9439   NEW YORK (Thomson Reuters Foundation) - As a S...  \n",
       "21215  A North Korean court sentenced two South Korea...  \n",
       "\n",
       "[21417 rows x 4 columns]"
      ]
     },
     "execution_count": 8,
     "metadata": {},
     "output_type": "execute_result"
    }
   ],
   "source": [
    "#function for extracting desired text using regex\n",
    "def extract_text(text):\n",
    "    regex = re.search(r\"(?<=\\(Reuters\\)\\s\\-\\s).*\",text)\n",
    "    if regex:\n",
    "        return regex.group(0)\n",
    "    return text\n",
    "#applying regex function to retain only relevant text\n",
    "df['text_processed'] = df['text'].apply(extract_text)\n",
    "#checking dataframe containing only True News\n",
    "df[df.label==\"TRUE\"]\n",
    "    "
   ]
  },
  {
   "cell_type": "markdown",
   "id": "99962fbe-df6a-41b0-88fc-a9cc37a1f440",
   "metadata": {},
   "source": [
    "#### Data preparation & cleaning"
   ]
  },
  {
   "cell_type": "markdown",
   "id": "8534cbbd-e5d5-4261-9ff9-c75bd85ea9cc",
   "metadata": {},
   "source": [
    "#### Firstly we will convert the target variable label into binary variable 0 for True news and 1 for Fake news."
   ]
  },
  {
   "cell_type": "code",
   "execution_count": 9,
   "id": "9295d4da-3ef9-4a4b-bc2f-de3e061a9dff",
   "metadata": {},
   "outputs": [
    {
     "data": {
      "text/html": [
       "<div>\n",
       "<style scoped>\n",
       "    .dataframe tbody tr th:only-of-type {\n",
       "        vertical-align: middle;\n",
       "    }\n",
       "\n",
       "    .dataframe tbody tr th {\n",
       "        vertical-align: top;\n",
       "    }\n",
       "\n",
       "    .dataframe thead th {\n",
       "        text-align: right;\n",
       "    }\n",
       "</style>\n",
       "<table border=\"1\" class=\"dataframe\">\n",
       "  <thead>\n",
       "    <tr style=\"text-align: right;\">\n",
       "      <th></th>\n",
       "      <th>title</th>\n",
       "      <th>text</th>\n",
       "      <th>label</th>\n",
       "      <th>text_processed</th>\n",
       "    </tr>\n",
       "  </thead>\n",
       "  <tbody>\n",
       "    <tr>\n",
       "      <th>30886</th>\n",
       "      <td>WATCH: ARROGANT Sexual Predator and Sometimes ...</td>\n",
       "      <td>The not so funny comedian Louis C.K. appeared ...</td>\n",
       "      <td>1</td>\n",
       "      <td>The not so funny comedian Louis C.K. appeared ...</td>\n",
       "    </tr>\n",
       "    <tr>\n",
       "      <th>15566</th>\n",
       "      <td>Britain's PM May, husband have no direct offsh...</td>\n",
       "      <td>LONDON (Reuters) - Neither the British Prime M...</td>\n",
       "      <td>0</td>\n",
       "      <td>Neither the British Prime Minister Theresa May...</td>\n",
       "    </tr>\n",
       "    <tr>\n",
       "      <th>12179</th>\n",
       "      <td>Mexico's Senate picks new electoral prosecutor...</td>\n",
       "      <td>MEXICO CITY (Reuters) - Mexico s Senate on Fri...</td>\n",
       "      <td>0</td>\n",
       "      <td>Mexico s Senate on Friday named the country s ...</td>\n",
       "    </tr>\n",
       "    <tr>\n",
       "      <th>25758</th>\n",
       "      <td>Trump Has Been BRIBING Government Officials F...</td>\n",
       "      <td>While the amount of Trump s ahem charitable gi...</td>\n",
       "      <td>1</td>\n",
       "      <td>While the amount of Trump s ahem charitable gi...</td>\n",
       "    </tr>\n",
       "    <tr>\n",
       "      <th>22305</th>\n",
       "      <td>Trump Supporter Pleads Guilty To Tampering Wi...</td>\n",
       "      <td>At the close of the election, upon finding out...</td>\n",
       "      <td>1</td>\n",
       "      <td>At the close of the election, upon finding out...</td>\n",
       "    </tr>\n",
       "  </tbody>\n",
       "</table>\n",
       "</div>"
      ],
      "text/plain": [
       "                                                   title  \\\n",
       "30886  WATCH: ARROGANT Sexual Predator and Sometimes ...   \n",
       "15566  Britain's PM May, husband have no direct offsh...   \n",
       "12179  Mexico's Senate picks new electoral prosecutor...   \n",
       "25758   Trump Has Been BRIBING Government Officials F...   \n",
       "22305   Trump Supporter Pleads Guilty To Tampering Wi...   \n",
       "\n",
       "                                                    text  label  \\\n",
       "30886  The not so funny comedian Louis C.K. appeared ...      1   \n",
       "15566  LONDON (Reuters) - Neither the British Prime M...      0   \n",
       "12179  MEXICO CITY (Reuters) - Mexico s Senate on Fri...      0   \n",
       "25758  While the amount of Trump s ahem charitable gi...      1   \n",
       "22305  At the close of the election, upon finding out...      1   \n",
       "\n",
       "                                          text_processed  \n",
       "30886  The not so funny comedian Louis C.K. appeared ...  \n",
       "15566  Neither the British Prime Minister Theresa May...  \n",
       "12179  Mexico s Senate on Friday named the country s ...  \n",
       "25758  While the amount of Trump s ahem charitable gi...  \n",
       "22305  At the close of the election, upon finding out...  "
      ]
     },
     "execution_count": 9,
     "metadata": {},
     "output_type": "execute_result"
    }
   ],
   "source": [
    "df[\"label\"] = df.label.apply(lambda  x:0 if x=='TRUE' else 1)\n",
    "df.head()"
   ]
  },
  {
   "cell_type": "markdown",
   "id": "a023f40e-6fc3-4661-a703-3a114eefed66",
   "metadata": {},
   "source": [
    "#### Further, we have to drop unnecessary features i.e., title, text, and text_processed features from the dataset as we have to use only the final combined news column for building the LSTM model."
   ]
  },
  {
   "cell_type": "code",
   "execution_count": 10,
   "id": "7dcb7a03-1378-463f-935a-e2da3cca08fe",
   "metadata": {},
   "outputs": [
    {
     "data": {
      "text/html": [
       "<div>\n",
       "<style scoped>\n",
       "    .dataframe tbody tr th:only-of-type {\n",
       "        vertical-align: middle;\n",
       "    }\n",
       "\n",
       "    .dataframe tbody tr th {\n",
       "        vertical-align: top;\n",
       "    }\n",
       "\n",
       "    .dataframe thead th {\n",
       "        text-align: right;\n",
       "    }\n",
       "</style>\n",
       "<table border=\"1\" class=\"dataframe\">\n",
       "  <thead>\n",
       "    <tr style=\"text-align: right;\">\n",
       "      <th></th>\n",
       "      <th>label</th>\n",
       "      <th>final_news</th>\n",
       "    </tr>\n",
       "  </thead>\n",
       "  <tbody>\n",
       "    <tr>\n",
       "      <th>30886</th>\n",
       "      <td>1</td>\n",
       "      <td>WATCH: ARROGANT Sexual Predator and Sometimes ...</td>\n",
       "    </tr>\n",
       "    <tr>\n",
       "      <th>15566</th>\n",
       "      <td>0</td>\n",
       "      <td>Britain's PM May, husband have no direct offsh...</td>\n",
       "    </tr>\n",
       "    <tr>\n",
       "      <th>12179</th>\n",
       "      <td>0</td>\n",
       "      <td>Mexico's Senate picks new electoral prosecutor...</td>\n",
       "    </tr>\n",
       "    <tr>\n",
       "      <th>25758</th>\n",
       "      <td>1</td>\n",
       "      <td>Trump Has Been BRIBING Government Officials F...</td>\n",
       "    </tr>\n",
       "    <tr>\n",
       "      <th>22305</th>\n",
       "      <td>1</td>\n",
       "      <td>Trump Supporter Pleads Guilty To Tampering Wi...</td>\n",
       "    </tr>\n",
       "  </tbody>\n",
       "</table>\n",
       "</div>"
      ],
      "text/plain": [
       "       label                                         final_news\n",
       "30886      1  WATCH: ARROGANT Sexual Predator and Sometimes ...\n",
       "15566      0  Britain's PM May, husband have no direct offsh...\n",
       "12179      0  Mexico's Senate picks new electoral prosecutor...\n",
       "25758      1   Trump Has Been BRIBING Government Officials F...\n",
       "22305      1   Trump Supporter Pleads Guilty To Tampering Wi..."
      ]
     },
     "execution_count": 10,
     "metadata": {},
     "output_type": "execute_result"
    }
   ],
   "source": [
    "#combining text_processed and title for creating full news article with headline\n",
    "df['final_news'] = df['title'] + \" \" + df['text_processed']\n",
    "# now we can delete extra columns \n",
    "cols_del =['title','text','text_processed']\n",
    "df = df.drop(cols_del,axis=1)\n",
    "df.head()"
   ]
  },
  {
   "cell_type": "markdown",
   "id": "980a4878-07ab-4f74-a463-cf3387f4775c",
   "metadata": {},
   "source": [
    "####  Next, lowercase the data, Further, we will remove the stopwords and all non-alphabetic characters from the dataset."
   ]
  },
  {
   "cell_type": "code",
   "execution_count": 11,
   "id": "c9061611-628c-47b1-8a6c-88ff592cb624",
   "metadata": {},
   "outputs": [
    {
     "name": "stdout",
     "output_type": "stream",
     "text": [
      "       label                                         final_news\n",
      "30886      1  watch  arrogant sexual predator sometimes  com...\n",
      "15566      0  britain s pm may  husband direct offshore inve...\n",
      "12179      0  mexico s senate picks new electoral prosecutor...\n",
      "25758      1  trump bribing government officials decades  de...\n",
      "22305      1  trump supporter pleads guilty tampering electi...\n"
     ]
    }
   ],
   "source": [
    "import nltk\n",
    "from nltk.corpus import stopwords\n",
    "# Download the stopwords if you haven't already\n",
    "# nltk.download('stopwords')\n",
    "# creating list of possible stopwords from nltk library\n",
    "stop = stopwords.words('english')\n",
    "def cleanText(txt):\n",
    "    # lowercasing\n",
    "    txt = txt.lower()\n",
    "    # removing stopwords\n",
    "    txt = ' '.join([word for word in txt.split() if word not in (stop)])\n",
    "    # removing non-alphabetic characters\n",
    "    txt = re.sub('[^a-z\\s]', ' ', txt)  # Allow spaces to retain word separation\n",
    "    return txt\n",
    "# applying text cleaning function to clean final_news\n",
    "df['final_news'] = df['final_news'].apply(cleanText)\n",
    "# Display the head of the DataFrame\n",
    "print(df.head())\n"
   ]
  },
  {
   "cell_type": "markdown",
   "id": "8d545e91-d0ee-45eb-b305-1ed9a161ee7a",
   "metadata": {},
   "source": [
    "#### Building Word Embeddings (GLOVE) --> In this case study, we will use Global vectors for word representation (GLOVE) word embeddings. It is an unsupervised learning algorithm for obtaining vector representations for words."
   ]
  },
  {
   "cell_type": "code",
   "execution_count": 12,
   "id": "44fed8cc-e4d5-44a2-9cfd-a407121f16c6",
   "metadata": {},
   "outputs": [
    {
     "name": "stdout",
     "output_type": "stream",
     "text": [
      "GloVe file exists!\n"
     ]
    }
   ],
   "source": [
    "# Define the path to the GloVe file\n",
    "path = 'E:\\GLOVE'\n",
    "EMBEDDING_FILE = f'{path}/glove.6B.50d.txt'\n",
    "# Configuration settings\n",
    "MAX_SEQUENCE_LENGTH = 100\n",
    "MAX_VOCAB_SIZE = 20000\n",
    "EMBEDDING_DIM = 50\n",
    "VALIDATION_SPLIT = 0.2\n",
    "BATCH_SIZE = 32\n",
    "EPOCHS = 10\n",
    "# Assuming df is a predefined DataFrame containing your data\n",
    "# Creating feature and target variables\n",
    "X = df.drop(['label'], axis=1)\n",
    "y = df['label'].values\n",
    "# Check if the GloVe file exists\n",
    "import os\n",
    "if os.path.exists(EMBEDDING_FILE):\n",
    "    print(\"GloVe file exists!\")\n",
    "else:\n",
    "    print(\"GloVe file not found. Please check the path.\")\n",
    "# Load GloVe embeddings\n",
    "def load_glove_embeddings(file_path):\n",
    "    embeddings = {}\n",
    "    with open(file_path, 'r', encoding='utf-8') as f:\n",
    "        for line in f:\n",
    "            values = line.split()\n",
    "            word = values[0]\n",
    "            vector \n"
   ]
  },
  {
   "cell_type": "code",
   "execution_count": 13,
   "id": "dfd6f9e4-89a0-4c1c-ac7c-8d0553e6131b",
   "metadata": {},
   "outputs": [
    {
     "name": "stdout",
     "output_type": "stream",
     "text": [
      "Loading word vectors...\n",
      "Found 400000 word vectors.\n",
      "Shape of data tensor: (44898, 100)\n"
     ]
    }
   ],
   "source": [
    "from tensorflow.keras.preprocessing.text import Tokenizer\n",
    "from tensorflow.keras.preprocessing.sequence import pad_sequences\n",
    "# Load GloVe embeddings\n",
    "print('Loading word vectors...')\n",
    "word2vec = {}\n",
    "with open(EMBEDDING_FILE, 'r', encoding='utf-8') as f:\n",
    "    # The file is a space-separated text file in the format: word vec[0] vec[1] vec[2] ...\n",
    "    for line in f:\n",
    "        values = line.split()\n",
    "        word = values[0]\n",
    "        vec = np.asarray(values[1:], dtype='float32')\n",
    "        word2vec[word] = vec\n",
    "\n",
    "print(f'Found {len(word2vec)} word vectors.')\n",
    "\n",
    "# Convert the sentences (strings) into integers\n",
    "tokenizer = Tokenizer(num_words=MAX_VOCAB_SIZE)\n",
    "tokenizer.fit_on_texts(list(X['final_news']))\n",
    "X = tokenizer.texts_to_sequences(list(X['final_news']))\n",
    "\n",
    "# Pad sequences so that we get a N x T matrix\n",
    "X = pad_sequences(X, maxlen=MAX_SEQUENCE_LENGTH)\n",
    "print('Shape of data tensor:', X.shape)"
   ]
  },
  {
   "cell_type": "code",
   "execution_count": 14,
   "id": "138dbebf-1ccd-4336-b7ea-8adf5c71e00d",
   "metadata": {},
   "outputs": [],
   "source": [
    "# Prepare embedding matrix\n",
    "num_words = min(MAX_VOCAB_SIZE, len(tokenizer.word_index) + 1)\n",
    "embedding_matrix = np.zeros((num_words, EMBEDDING_DIM))\n",
    "for word, i in tokenizer.word_index.items():\n",
    "    if i >= MAX_VOCAB_SIZE:\n",
    "        continue\n",
    "    embedding_vector = word2vec.get(word)\n",
    "    if embedding_vector is not None:\n",
    "        embedding_matrix[i] = embedding_vector"
   ]
  },
  {
   "cell_type": "code",
   "execution_count": 15,
   "id": "b26b0dae-4027-4d5e-a934-dcbc6ce7e932",
   "metadata": {},
   "outputs": [
    {
     "name": "stderr",
     "output_type": "stream",
     "text": [
      "C:\\Users\\Dell\\AppData\\Local\\Programs\\Python\\Python311\\Lib\\site-packages\\keras\\src\\layers\\core\\embedding.py:90: UserWarning: Argument `input_length` is deprecated. Just remove it.\n",
      "  warnings.warn(\n"
     ]
    },
    {
     "data": {
      "text/html": [
       "<pre style=\"white-space:pre;overflow-x:auto;line-height:normal;font-family:Menlo,'DejaVu Sans Mono',consolas,'Courier New',monospace\"><span style=\"font-weight: bold\">Model: \"functional_1\"</span>\n",
       "</pre>\n"
      ],
      "text/plain": [
       "\u001b[1mModel: \"functional_1\"\u001b[0m\n"
      ]
     },
     "metadata": {},
     "output_type": "display_data"
    },
    {
     "data": {
      "text/html": [
       "<pre style=\"white-space:pre;overflow-x:auto;line-height:normal;font-family:Menlo,'DejaVu Sans Mono',consolas,'Courier New',monospace\">┏━━━━━━━━━━━━━━━━━━━━━━━━━━━━━━━━━━━━━━┳━━━━━━━━━━━━━━━━━━━━━━━━━━━━━┳━━━━━━━━━━━━━━━━━┓\n",
       "┃<span style=\"font-weight: bold\"> Layer (type)                         </span>┃<span style=\"font-weight: bold\"> Output Shape                </span>┃<span style=\"font-weight: bold\">         Param # </span>┃\n",
       "┡━━━━━━━━━━━━━━━━━━━━━━━━━━━━━━━━━━━━━━╇━━━━━━━━━━━━━━━━━━━━━━━━━━━━━╇━━━━━━━━━━━━━━━━━┩\n",
       "│ input_layer (<span style=\"color: #0087ff; text-decoration-color: #0087ff\">InputLayer</span>)             │ (<span style=\"color: #00d7ff; text-decoration-color: #00d7ff\">None</span>, <span style=\"color: #00af00; text-decoration-color: #00af00\">100</span>)                 │               <span style=\"color: #00af00; text-decoration-color: #00af00\">0</span> │\n",
       "├──────────────────────────────────────┼─────────────────────────────┼─────────────────┤\n",
       "│ embedding (<span style=\"color: #0087ff; text-decoration-color: #0087ff\">Embedding</span>)                │ (<span style=\"color: #00d7ff; text-decoration-color: #00d7ff\">None</span>, <span style=\"color: #00af00; text-decoration-color: #00af00\">100</span>, <span style=\"color: #00af00; text-decoration-color: #00af00\">50</span>)             │       <span style=\"color: #00af00; text-decoration-color: #00af00\">1,000,000</span> │\n",
       "├──────────────────────────────────────┼─────────────────────────────┼─────────────────┤\n",
       "│ bidirectional (<span style=\"color: #0087ff; text-decoration-color: #0087ff\">Bidirectional</span>)        │ (<span style=\"color: #00d7ff; text-decoration-color: #00d7ff\">None</span>, <span style=\"color: #00af00; text-decoration-color: #00af00\">100</span>, <span style=\"color: #00af00; text-decoration-color: #00af00\">30</span>)             │           <span style=\"color: #00af00; text-decoration-color: #00af00\">7,920</span> │\n",
       "├──────────────────────────────────────┼─────────────────────────────┼─────────────────┤\n",
       "│ global_max_pooling1d                 │ (<span style=\"color: #00d7ff; text-decoration-color: #00d7ff\">None</span>, <span style=\"color: #00af00; text-decoration-color: #00af00\">30</span>)                  │               <span style=\"color: #00af00; text-decoration-color: #00af00\">0</span> │\n",
       "│ (<span style=\"color: #0087ff; text-decoration-color: #0087ff\">GlobalMaxPooling1D</span>)                 │                             │                 │\n",
       "├──────────────────────────────────────┼─────────────────────────────┼─────────────────┤\n",
       "│ dense (<span style=\"color: #0087ff; text-decoration-color: #0087ff\">Dense</span>)                        │ (<span style=\"color: #00d7ff; text-decoration-color: #00d7ff\">None</span>, <span style=\"color: #00af00; text-decoration-color: #00af00\">1</span>)                   │              <span style=\"color: #00af00; text-decoration-color: #00af00\">31</span> │\n",
       "└──────────────────────────────────────┴─────────────────────────────┴─────────────────┘\n",
       "</pre>\n"
      ],
      "text/plain": [
       "┏━━━━━━━━━━━━━━━━━━━━━━━━━━━━━━━━━━━━━━┳━━━━━━━━━━━━━━━━━━━━━━━━━━━━━┳━━━━━━━━━━━━━━━━━┓\n",
       "┃\u001b[1m \u001b[0m\u001b[1mLayer (type)                        \u001b[0m\u001b[1m \u001b[0m┃\u001b[1m \u001b[0m\u001b[1mOutput Shape               \u001b[0m\u001b[1m \u001b[0m┃\u001b[1m \u001b[0m\u001b[1m        Param #\u001b[0m\u001b[1m \u001b[0m┃\n",
       "┡━━━━━━━━━━━━━━━━━━━━━━━━━━━━━━━━━━━━━━╇━━━━━━━━━━━━━━━━━━━━━━━━━━━━━╇━━━━━━━━━━━━━━━━━┩\n",
       "│ input_layer (\u001b[38;5;33mInputLayer\u001b[0m)             │ (\u001b[38;5;45mNone\u001b[0m, \u001b[38;5;34m100\u001b[0m)                 │               \u001b[38;5;34m0\u001b[0m │\n",
       "├──────────────────────────────────────┼─────────────────────────────┼─────────────────┤\n",
       "│ embedding (\u001b[38;5;33mEmbedding\u001b[0m)                │ (\u001b[38;5;45mNone\u001b[0m, \u001b[38;5;34m100\u001b[0m, \u001b[38;5;34m50\u001b[0m)             │       \u001b[38;5;34m1,000,000\u001b[0m │\n",
       "├──────────────────────────────────────┼─────────────────────────────┼─────────────────┤\n",
       "│ bidirectional (\u001b[38;5;33mBidirectional\u001b[0m)        │ (\u001b[38;5;45mNone\u001b[0m, \u001b[38;5;34m100\u001b[0m, \u001b[38;5;34m30\u001b[0m)             │           \u001b[38;5;34m7,920\u001b[0m │\n",
       "├──────────────────────────────────────┼─────────────────────────────┼─────────────────┤\n",
       "│ global_max_pooling1d                 │ (\u001b[38;5;45mNone\u001b[0m, \u001b[38;5;34m30\u001b[0m)                  │               \u001b[38;5;34m0\u001b[0m │\n",
       "│ (\u001b[38;5;33mGlobalMaxPooling1D\u001b[0m)                 │                             │                 │\n",
       "├──────────────────────────────────────┼─────────────────────────────┼─────────────────┤\n",
       "│ dense (\u001b[38;5;33mDense\u001b[0m)                        │ (\u001b[38;5;45mNone\u001b[0m, \u001b[38;5;34m1\u001b[0m)                   │              \u001b[38;5;34m31\u001b[0m │\n",
       "└──────────────────────────────────────┴─────────────────────────────┴─────────────────┘\n"
      ]
     },
     "metadata": {},
     "output_type": "display_data"
    },
    {
     "data": {
      "text/html": [
       "<pre style=\"white-space:pre;overflow-x:auto;line-height:normal;font-family:Menlo,'DejaVu Sans Mono',consolas,'Courier New',monospace\"><span style=\"font-weight: bold\"> Total params: </span><span style=\"color: #00af00; text-decoration-color: #00af00\">1,007,951</span> (3.85 MB)\n",
       "</pre>\n"
      ],
      "text/plain": [
       "\u001b[1m Total params: \u001b[0m\u001b[38;5;34m1,007,951\u001b[0m (3.85 MB)\n"
      ]
     },
     "metadata": {},
     "output_type": "display_data"
    },
    {
     "data": {
      "text/html": [
       "<pre style=\"white-space:pre;overflow-x:auto;line-height:normal;font-family:Menlo,'DejaVu Sans Mono',consolas,'Courier New',monospace\"><span style=\"font-weight: bold\"> Trainable params: </span><span style=\"color: #00af00; text-decoration-color: #00af00\">7,951</span> (31.06 KB)\n",
       "</pre>\n"
      ],
      "text/plain": [
       "\u001b[1m Trainable params: \u001b[0m\u001b[38;5;34m7,951\u001b[0m (31.06 KB)\n"
      ]
     },
     "metadata": {},
     "output_type": "display_data"
    },
    {
     "data": {
      "text/html": [
       "<pre style=\"white-space:pre;overflow-x:auto;line-height:normal;font-family:Menlo,'DejaVu Sans Mono',consolas,'Courier New',monospace\"><span style=\"font-weight: bold\"> Non-trainable params: </span><span style=\"color: #00af00; text-decoration-color: #00af00\">1,000,000</span> (3.81 MB)\n",
       "</pre>\n"
      ],
      "text/plain": [
       "\u001b[1m Non-trainable params: \u001b[0m\u001b[38;5;34m1,000,000\u001b[0m (3.81 MB)\n"
      ]
     },
     "metadata": {},
     "output_type": "display_data"
    }
   ],
   "source": [
    "from tensorflow.keras.models import Model\n",
    "from tensorflow.keras.layers import Input, Embedding, LSTM, Bidirectional, GlobalMaxPool1D, Dense\n",
    "# Load pre-trained word embeddings into an Embedding layer\n",
    "embedding_layer = Embedding(\n",
    "    num_words,\n",
    "    EMBEDDING_DIM,\n",
    "    weights=[embedding_matrix],\n",
    "    input_length=MAX_SEQUENCE_LENGTH,\n",
    "    trainable=False\n",
    ")\n",
    "# create an LSTM network with a single LSTM\n",
    "input_ = Input(shape=(MAX_SEQUENCE_LENGTH,))\n",
    "x = embedding_layer(input_)\n",
    "# x = LSTM(15, return_sequences=True)(x)\n",
    "x = Bidirectional(LSTM(15, return_sequences=True))(x)\n",
    "x = GlobalMaxPool1D()(x)\n",
    "output = Dense(1, activation=\"sigmoid\")(x)\n",
    "model = Model(input_, output)\n",
    "model.compile(\n",
    "  loss='binary_crossentropy',\n",
    "  optimizer='adam',\n",
    "  metrics=['accuracy']\n",
    ")\n",
    "model.summary()"
   ]
  },
  {
   "cell_type": "code",
   "execution_count": 16,
   "id": "989dc23a-e3c8-47b7-80a4-e305a0113a67",
   "metadata": {},
   "outputs": [],
   "source": [
    "from sklearn.model_selection import train_test_split\n",
    "# train Test split in the ratio of 80:20\n",
    "X_train, X_test, y_train, y_test = train_test_split(X, y,test_size=0.20,stratify=y, random_state=0)"
   ]
  },
  {
   "cell_type": "code",
   "execution_count": 17,
   "id": "961dc7ca-bcbc-487b-9813-f5870db9180e",
   "metadata": {},
   "outputs": [
    {
     "name": "stdout",
     "output_type": "stream",
     "text": [
      "Epoch 1/10\n",
      "\u001b[1m1123/1123\u001b[0m \u001b[32m━━━━━━━━━━━━━━━━━━━━\u001b[0m\u001b[37m\u001b[0m \u001b[1m100s\u001b[0m 82ms/step - accuracy: 0.8581 - loss: 0.3325 - val_accuracy: 0.9420 - val_loss: 0.1548\n",
      "Epoch 2/10\n",
      "\u001b[1m1123/1123\u001b[0m \u001b[32m━━━━━━━━━━━━━━━━━━━━\u001b[0m\u001b[37m\u001b[0m \u001b[1m137s\u001b[0m 77ms/step - accuracy: 0.9522 - loss: 0.1276 - val_accuracy: 0.9589 - val_loss: 0.1105\n",
      "Epoch 3/10\n",
      "\u001b[1m1123/1123\u001b[0m \u001b[32m━━━━━━━━━━━━━━━━━━━━\u001b[0m\u001b[37m\u001b[0m \u001b[1m85s\u001b[0m 76ms/step - accuracy: 0.9656 - loss: 0.0943 - val_accuracy: 0.9683 - val_loss: 0.0900\n",
      "Epoch 4/10\n",
      "\u001b[1m1123/1123\u001b[0m \u001b[32m━━━━━━━━━━━━━━━━━━━━\u001b[0m\u001b[37m\u001b[0m \u001b[1m67s\u001b[0m 59ms/step - accuracy: 0.9721 - loss: 0.0763 - val_accuracy: 0.9717 - val_loss: 0.0813\n",
      "Epoch 5/10\n",
      "\u001b[1m1123/1123\u001b[0m \u001b[32m━━━━━━━━━━━━━━━━━━━━\u001b[0m\u001b[37m\u001b[0m \u001b[1m42s\u001b[0m 37ms/step - accuracy: 0.9776 - loss: 0.0652 - val_accuracy: 0.9738 - val_loss: 0.0693\n",
      "Epoch 6/10\n",
      "\u001b[1m1123/1123\u001b[0m \u001b[32m━━━━━━━━━━━━━━━━━━━━\u001b[0m\u001b[37m\u001b[0m \u001b[1m37s\u001b[0m 33ms/step - accuracy: 0.9813 - loss: 0.0565 - val_accuracy: 0.9780 - val_loss: 0.0640\n",
      "Epoch 7/10\n",
      "\u001b[1m1123/1123\u001b[0m \u001b[32m━━━━━━━━━━━━━━━━━━━━\u001b[0m\u001b[37m\u001b[0m \u001b[1m37s\u001b[0m 33ms/step - accuracy: 0.9838 - loss: 0.0474 - val_accuracy: 0.9807 - val_loss: 0.0575\n",
      "Epoch 8/10\n",
      "\u001b[1m1123/1123\u001b[0m \u001b[32m━━━━━━━━━━━━━━━━━━━━\u001b[0m\u001b[37m\u001b[0m \u001b[1m33s\u001b[0m 29ms/step - accuracy: 0.9870 - loss: 0.0416 - val_accuracy: 0.9830 - val_loss: 0.0521\n",
      "Epoch 9/10\n",
      "\u001b[1m1123/1123\u001b[0m \u001b[32m━━━━━━━━━━━━━━━━━━━━\u001b[0m\u001b[37m\u001b[0m \u001b[1m33s\u001b[0m 29ms/step - accuracy: 0.9867 - loss: 0.0368 - val_accuracy: 0.9816 - val_loss: 0.0511\n",
      "Epoch 10/10\n",
      "\u001b[1m1123/1123\u001b[0m \u001b[32m━━━━━━━━━━━━━━━━━━━━\u001b[0m\u001b[37m\u001b[0m \u001b[1m40s\u001b[0m 36ms/step - accuracy: 0.9897 - loss: 0.0321 - val_accuracy: 0.9829 - val_loss: 0.0491\n",
      "\u001b[1m281/281\u001b[0m \u001b[32m━━━━━━━━━━━━━━━━━━━━\u001b[0m\u001b[37m\u001b[0m \u001b[1m3s\u001b[0m 11ms/step - accuracy: 0.9836 - loss: 0.0513\n",
      "Test loss: 0.04910130053758621\n",
      "Test accuracy: 0.9828507900238037\n"
     ]
    },
    {
     "data": {
      "image/png": "[encoded data removed]",
      "text/plain": [
       "<Figure size 1500x500 with 2 Axes>"
      ]
     },
     "metadata": {},
     "output_type": "display_data"
    }
   ],
   "source": [
    "import matplotlib.pyplot as plt\n",
    "# Train the model\n",
    "r = model.fit(\n",
    "    X_train,\n",
    "    y_train,\n",
    "    batch_size=BATCH_SIZE,\n",
    "    epochs=EPOCHS,\n",
    "    validation_data=(X_test, y_test))\n",
    "# Evaluate the model\n",
    "loss, accuracy = model.evaluate(X_test, y_test)\n",
    "print(f'Test loss: {loss}')\n",
    "print(f'Test accuracy: {accuracy}')\n",
    "# Plot training & validation accuracy and loss values\n",
    "acc = r.history['accuracy']\n",
    "val_acc = r.history['val_accuracy']\n",
    "loss = r.history['loss']\n",
    "val_loss = r.history['val_loss']\n",
    "epochs_range = range(1, EPOCHS + 1)\n",
    "plt.figure(figsize=(15, 5))\n",
    "plt.subplot(1, 2, 1)\n",
    "plt.plot(epochs_range, acc, label='Train Set')\n",
    "plt.plot(epochs_range, val_acc, label='Val Set')\n",
    "plt.legend(loc=\"best\")\n",
    "plt.xlabel('Epochs')\n",
    "plt.ylabel('Accuracy')\n",
    "plt.title('LSTM Model Accuracy')\n",
    "plt.subplot(1, 2, 2)\n",
    "plt.plot(epochs_range, loss, label='Train Set')\n",
    "plt.plot(epochs_range, val_loss, label='Val Set')\n",
    "plt.legend(loc=\"best\")\n",
    "plt.xlabel('Epochs')\n",
    "plt.ylabel('Loss')\n",
    "plt.title('LSTM Model Loss')\n",
    "plt.tight_layout()\n",
    "plt.show()"
   ]
  },
  {
   "cell_type": "code",
   "execution_count": 18,
   "id": "53a333e9-b9a2-4939-a653-8f0e5ff36f29",
   "metadata": {},
   "outputs": [
    {
     "name": "stdout",
     "output_type": "stream",
     "text": [
      "\u001b[1m1123/1123\u001b[0m \u001b[32m━━━━━━━━━━━━━━━━━━━━\u001b[0m\u001b[37m\u001b[0m \u001b[1m11s\u001b[0m 10ms/step - accuracy: 0.9928 - loss: 0.0247\n",
      "Accuracy of the model on training data is :  99.3151068687439\n",
      "\u001b[1m281/281\u001b[0m \u001b[32m━━━━━━━━━━━━━━━━━━━━\u001b[0m\u001b[37m\u001b[0m \u001b[1m3s\u001b[0m 11ms/step - accuracy: 0.9836 - loss: 0.0513\n",
      "Accuracy of the model on testing data is :  98.28507900238037\n"
     ]
    }
   ],
   "source": [
    "print('Accuracy of the model on training data is : ', model.evaluate(X_train,y_train)[1]*100)\n",
    "print('Accuracy of the model on testing data is : ', model.evaluate(X_test,y_test)[1]*100)\n"
   ]
  },
  {
   "cell_type": "code",
   "execution_count": 25,
   "id": "01864af6-4a35-4681-9f7c-1d3ec12c5f51",
   "metadata": {},
   "outputs": [
    {
     "name": "stdout",
     "output_type": "stream",
     "text": [
      "\u001b[1m281/281\u001b[0m \u001b[32m━━━━━━━━━━━━━━━━━━━━\u001b[0m\u001b[37m\u001b[0m \u001b[1m2s\u001b[0m 8ms/step\n"
     ]
    },
    {
     "data": {
      "text/plain": [
       "array([[9.9971259e-01],\n",
       "       [3.0614386e-04],\n",
       "       [9.9997491e-01],\n",
       "       [9.9999583e-01],\n",
       "       [9.9989218e-01]], dtype=float32)"
      ]
     },
     "execution_count": 25,
     "metadata": {},
     "output_type": "execute_result"
    }
   ],
   "source": [
    "pred=model.predict(X_test)\n",
    "pred[:5]"
   ]
  },
  {
   "cell_type": "markdown",
   "id": "d99bca5d-3c17-40ec-8dec-688b4cc4e9f5",
   "metadata": {},
   "source": [
    "### Confusion matrix"
   ]
  },
  {
   "cell_type": "code",
   "execution_count": 26,
   "id": "aed95025-cf10-4e2b-8ed2-ef4f238792bc",
   "metadata": {},
   "outputs": [
    {
     "data": {
      "text/plain": [
       "Text(0.5, 14.722222222222216, 'Predicted')"
      ]
     },
     "execution_count": 26,
     "metadata": {},
     "output_type": "execute_result"
    },
    {
     "data": {
      "image/png": "[encoded data removed]",
      "text/plain": [
       "<Figure size 500x400 with 2 Axes>"
      ]
     },
     "metadata": {},
     "output_type": "display_data"
    }
   ],
   "source": [
    "from sklearn.metrics import confusion_matrix\n",
    "import seaborn as sns\n",
    "cm=confusion_matrix(y_test,pred.round())\n",
    "cm=pd.DataFrame(cm, index=['TRUE','FAKE'],columns=['TRUE','FAKE'])\n",
    "plt.figure(figsize=(5,4))\n",
    "sns.heatmap(cm,cmap='Blues',linecolor='black',linewidth=1,annot=True, fmt='',xticklabels=['TRUE','FAKE'],yticklabels=['TRUE','FAKE'])\n",
    "plt.ylabel('Actual')\n",
    "plt.xlabel('Predicted')"
   ]
  },
  {
   "cell_type": "markdown",
   "id": "b40024ff-0e13-4dae-a422-bec69fc714be",
   "metadata": {},
   "source": [
    "### classification report"
   ]
  },
  {
   "cell_type": "code",
   "execution_count": 27,
   "id": "693f13ae-8557-4b3f-b6cb-0491412a91b1",
   "metadata": {},
   "outputs": [
    {
     "name": "stdout",
     "output_type": "stream",
     "text": [
      "              precision    recall  f1-score   support\n",
      "\n",
      "           0       0.98      0.98      0.98      4284\n",
      "           1       0.98      0.99      0.98      4696\n",
      "\n",
      "    accuracy                           0.98      8980\n",
      "   macro avg       0.98      0.98      0.98      8980\n",
      "weighted avg       0.98      0.98      0.98      8980\n",
      "\n"
     ]
    }
   ],
   "source": [
    "from sklearn.metrics import classification_report\n",
    "print(classification_report(y_test,pred.round()))"
   ]
  },
  {
   "cell_type": "code",
   "execution_count": 28,
   "id": "622cb7f6-2608-4696-b592-32ec243de741",
   "metadata": {},
   "outputs": [
    {
     "name": "stdout",
     "output_type": "stream",
     "text": [
      "\u001b[1m281/281\u001b[0m \u001b[32m━━━━━━━━━━━━━━━━━━━━\u001b[0m\u001b[37m\u001b[0m \u001b[1m2s\u001b[0m 8ms/step\n"
     ]
    }
   ],
   "source": [
    "y_pred=model.predict(X_test).ravel()"
   ]
  },
  {
   "cell_type": "markdown",
   "id": "24d24141-d43d-4253-9952-8b63fd4fb663",
   "metadata": {},
   "source": [
    "### ROC AUC PLOT"
   ]
  },
  {
   "cell_type": "code",
   "execution_count": 23,
   "id": "469f72c1-4b94-4336-bfdc-ff4704df2c59",
   "metadata": {},
   "outputs": [
    {
     "data": {
      "image/png": "[encoded data removed]",
      "text/plain": [
       "<Figure size 1200x800 with 1 Axes>"
      ]
     },
     "metadata": {},
     "output_type": "display_data"
    }
   ],
   "source": [
    "def roc_auc_plot(y_true,y_proba,label=' ',l='-',lw=1.0):\n",
    "    from sklearn.metrics import roc_curve, roc_auc_score\n",
    "    fpr,tpr,_=roc_curve(y_true,y_proba)\n",
    "    auc_score = roc_auc_score(y_true, y_proba)\n",
    "    ax.plot(fpr,tpr,linestyle=l,linewidth=lw, label=\"%s (area=%.3f)\"%(label,roc_auc_score(y_true,y_proba)))\n",
    "f, ax=plt.subplots(figsize=(12,8))\n",
    "roc_auc_plot(y_test,y_pred,label='LSTM',l='-',lw=1.0)\n",
    "ax.plot([0,1],[0,1],color='k',linewidth=0.8,linestyle='--')\n",
    "ax.legend(loc='lower right')\n",
    "ax.set_xlabel('False Positive Rate')\n",
    "ax.set_ylabel('True Positive Rate')\n",
    "ax.set_xlim([0,1])\n",
    "ax.set_ylim([0,1])\n",
    "ax.set_title('Receiver Operator Characteristic Curves')\n",
    "sns.despine()\n",
    "plt.show()\n",
    "\n",
    "    "
   ]
  },
  {
   "cell_type": "code",
   "execution_count": 44,
   "id": "29e550ba-89e2-428e-8220-01262aa113b6",
   "metadata": {},
   "outputs": [],
   "source": [
    "testSent1=[\"LONDON (Reuters) - Neither the British Prime M...\",\n",
    "          \"Alience are landed on earth to live with us.\"]"
   ]
  },
  {
   "cell_type": "code",
   "execution_count": 45,
   "id": "a265b398-7f59-4246-a45b-4e63b5fb93ec",
   "metadata": {},
   "outputs": [],
   "source": [
    "def cleanText(txt):\n",
    "    txt=txt.lower()\n",
    "    txt=' '.join([word for word in txt.split() if word not in(stop)])\n",
    "    txt=re.sub('[^a-z]',' ',txt)\n",
    "    return txt"
   ]
  },
  {
   "cell_type": "code",
   "execution_count": 46,
   "id": "de0ab08e-5844-4354-8433-0e40bb8c932e",
   "metadata": {},
   "outputs": [],
   "source": [
    "import pandas as pd\n",
    "from keras.preprocessing.sequence import pad_sequences\n",
    "def predict_text(first_text):\n",
    "    # Tokenize the input text using the global 'tokenizer' object (assuming it's defined globally)\n",
    "    test_sequences = tokenizer.texts_to_sequences(first_text)\n",
    "    # Pad sequences to ensure consistent length as required by the model\n",
    "    test_sequences_padded = pad_sequences(test_sequences, maxlen=MAX_SEQUENCE_LENGTH)\n",
    "    # Create a DataFrame to store results\n",
    "    df_test = pd.DataFrame(first_text, columns=['test_sent'])\n",
    "    # Predict using the global 'model' object (assuming it's defined globally)\n",
    "    predictions = model.predict(test_sequences_padded)\n",
    "    # Apply threshold (e.g., 0.5 for binary classification) and convert to labels\n",
    "    df_test['prediction'] = ['Fake' if pred >= 0.1 else 'Real' for pred in predictions]\n",
    "    # Optionally, clean the text in the DataFrame (if 'cleanText' function is defined)\n",
    "    # df_test['test_sent'] = df_test['test_sent'].apply(cleanText)\n",
    "    return df_test\n"
   ]
  },
  {
   "cell_type": "code",
   "execution_count": 47,
   "id": "2d973373-c11b-4690-b08b-619441da855d",
   "metadata": {},
   "outputs": [
    {
     "name": "stdout",
     "output_type": "stream",
     "text": [
      "\u001b[1m1/1\u001b[0m \u001b[32m━━━━━━━━━━━━━━━━━━━━\u001b[0m\u001b[37m\u001b[0m \u001b[1m0s\u001b[0m 39ms/step\n"
     ]
    },
    {
     "data": {
      "text/html": [
       "<div>\n",
       "<style scoped>\n",
       "    .dataframe tbody tr th:only-of-type {\n",
       "        vertical-align: middle;\n",
       "    }\n",
       "\n",
       "    .dataframe tbody tr th {\n",
       "        vertical-align: top;\n",
       "    }\n",
       "\n",
       "    .dataframe thead th {\n",
       "        text-align: right;\n",
       "    }\n",
       "</style>\n",
       "<table border=\"1\" class=\"dataframe\">\n",
       "  <thead>\n",
       "    <tr style=\"text-align: right;\">\n",
       "      <th></th>\n",
       "      <th>test_sent</th>\n",
       "      <th>prediction</th>\n",
       "    </tr>\n",
       "  </thead>\n",
       "  <tbody>\n",
       "    <tr>\n",
       "      <th>0</th>\n",
       "      <td>LONDON (Reuters) - Neither the British Prime M...</td>\n",
       "      <td>Real</td>\n",
       "    </tr>\n",
       "    <tr>\n",
       "      <th>1</th>\n",
       "      <td>Alience are landed on earth to live with us.</td>\n",
       "      <td>Fake</td>\n",
       "    </tr>\n",
       "  </tbody>\n",
       "</table>\n",
       "</div>"
      ],
      "text/plain": [
       "                                           test_sent prediction\n",
       "0  LONDON (Reuters) - Neither the British Prime M...       Real\n",
       "1       Alience are landed on earth to live with us.       Fake"
      ]
     },
     "execution_count": 47,
     "metadata": {},
     "output_type": "execute_result"
    }
   ],
   "source": [
    "df_testsent1=predict_text(testSent1)\n",
    "df_testsent1"
   ]
  },
  {
   "cell_type": "code",
   "execution_count": null,
   "id": "d5185335-f48f-4bb4-9550-29814ee55d45",
   "metadata": {},
   "outputs": [],
   "source": []
  },
  {
   "cell_type": "code",
   "execution_count": null,
   "id": "e88b3f33-f2bc-45f0-8f90-2d14cade8585",
   "metadata": {},
   "outputs": [],
   "source": []
  },
  {
   "cell_type": "code",
   "execution_count": null,
   "id": "e21f1de9-0394-46a9-9510-5d69f07d6ecb",
   "metadata": {},
   "outputs": [],
   "source": []
  },
  {
   "cell_type": "code",
   "execution_count": null,
   "id": "720d2967-1b05-4a4c-bc86-31a9b9bfe438",
   "metadata": {},
   "outputs": [],
   "source": []
  }
 ],
 "metadata": {
  "kernelspec": {
   "display_name": "Python 3 (ipykernel)",
   "language": "python",
   "name": "python3"
  },
  "language_info": {
   "codemirror_mode": {
    "name": "ipython",
    "version": 3
   },
   "file_extension": ".py",
   "mimetype": "text/x-python",
   "name": "python",
   "nbconvert_exporter": "python",
   "pygments_lexer": "ipython3",
   "version": "3.11.5"
  }
 },
 "nbformat": 4,
 "nbformat_minor": 5
}
